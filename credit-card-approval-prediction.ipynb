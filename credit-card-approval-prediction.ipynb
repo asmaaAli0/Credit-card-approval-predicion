{
 "cells": [
  {
   "cell_type": "markdown",
   "metadata": {},
   "source": [
    "# Import important libraries"
   ]
  },
  {
   "cell_type": "code",
   "execution_count": 38,
   "metadata": {
    "execution": {
     "iopub.execute_input": "2022-01-30T13:33:23.594360Z",
     "iopub.status.busy": "2022-01-30T13:33:23.593367Z",
     "iopub.status.idle": "2022-01-30T13:33:23.620374Z",
     "shell.execute_reply": "2022-01-30T13:33:23.618302Z",
     "shell.execute_reply.started": "2022-01-30T13:33:23.594313Z"
    }
   },
   "outputs": [],
   "source": [
    "\n",
    "import warnings\n",
    "warnings.filterwarnings('ignore')\n",
    "\n",
    "import numpy as np # linear algebra\n",
    "import pandas as pd # data processing, CSV file I/O (e.g. pd.read_csv)\n",
    "from sklearn.compose import ColumnTransformer\n",
    "from sklearn.utils import shuffle\n",
    "sns.set_theme()\n",
    "from sklearn.metrics import confusion_matrix\n",
    "from sklearn.metrics import precision_score, recall_score\n",
    "from sklearn.metrics import precision_recall_curve, roc_auc_score\n",
    "from catboost import  CatBoostClassifier\n",
    "from sklearn.metrics import fbeta_score\n",
    "from sklearn.metrics import make_scorer\n",
    "from sklearn.metrics import f1_score\n",
    "#visualization libraries\n",
    "import matplotlib\n",
    "import matplotlib.pyplot as plt\n",
    "import matplotlib.style as style\n",
    "import matplotlib.pyplot as plt\n",
    "from matplotlib import colors\n",
    "import matplotlib.pyplot as plt, numpy as np\n",
    "from mpl_toolkits.mplot3d import Axes3D\n",
    "from matplotlib.colors import ListedColormap\n",
    "from IPython.display import Image\n",
    "import plotly.express as px\n",
    "import plotly.graph_objs as go\n",
    "import plotly.figure_factory as ff\n",
    "from plotly.subplots import make_subplots\n",
    "import plotly.offline as pyo\n",
    "from plotly import tools\n",
    "import seaborn as sns\n",
    "\n",
    "import missingno as msno #to visualize missing data\n",
    "\n",
    "from imblearn.over_sampling import SMOTE\n",
    "import itertools\n",
    "\n",
    "\n",
    "from sklearn.model_selection import train_test_split\n",
    "from sklearn.metrics import accuracy_score, confusion_matrix,precision_score,recall_score,roc_auc_score,f1_score,plot_confusion_matrix,plot_roc_curve,roc_curve\n",
    "from sklearn.linear_model import LogisticRegression\n",
    "from sklearn.tree import DecisionTreeClassifier\n",
    "from sklearn.svm import SVC\n",
    "\n",
    "from xgboost import XGBClassifier\n",
    "from lightgbm import LGBMClassifier\n",
    "from catboost import CatBoostClassifier\n",
    "from sklearn import svm\n",
    "from sklearn.ensemble import RandomForestClassifier\n",
    "from sklearn.neighbors import KNeighborsClassifier\n",
    "\n",
    "from sklearn.preprocessing import LabelEncoder #label encoding for categorical columns\n"
   ]
  },
  {
   "cell_type": "markdown",
   "metadata": {},
   "source": [
    "## Reading datasets & EDA\n",
    "\n"
   ]
  },
  {
   "cell_type": "code",
   "execution_count": 39,
   "metadata": {
    "execution": {
     "iopub.execute_input": "2022-01-30T13:33:23.631671Z",
     "iopub.status.busy": "2022-01-30T13:33:23.629408Z",
     "iopub.status.idle": "2022-01-30T13:33:24.733078Z",
     "shell.execute_reply": "2022-01-30T13:33:24.732301Z",
     "shell.execute_reply.started": "2022-01-30T13:33:23.631626Z"
    }
   },
   "outputs": [],
   "source": [
    "application_record = pd.read_csv(\"../input/credit-card-approval-prediction/application_record.csv\", encoding = 'utf-8') \n",
    "credit_record = pd.read_csv(\"../input/credit-card-approval-prediction/credit_record.csv\", encoding = 'utf-8') "
   ]
  },
  {
   "cell_type": "markdown",
   "metadata": {},
   "source": [
    "1. **application_record**: contains general customer data. Most likely, these are primary data and are stored in the storage based on received applications for the issuance of loan products.\n",
    "\n",
    "2. **credit_record**: here you can find historical data on issued loan products, basic information, payment schedule for "
   ]
  },
  {
   "cell_type": "code",
   "execution_count": 40,
   "metadata": {
    "execution": {
     "iopub.execute_input": "2022-01-30T13:33:24.735929Z",
     "iopub.status.busy": "2022-01-30T13:33:24.735379Z",
     "iopub.status.idle": "2022-01-30T13:33:24.758221Z",
     "shell.execute_reply": "2022-01-30T13:33:24.757567Z",
     "shell.execute_reply.started": "2022-01-30T13:33:24.735888Z"
    }
   },
   "outputs": [],
   "source": [
    "application_record.head(5)"
   ]
  },
  {
   "cell_type": "code",
   "execution_count": 41,
   "metadata": {
    "execution": {
     "iopub.execute_input": "2022-01-30T13:33:24.760207Z",
     "iopub.status.busy": "2022-01-30T13:33:24.759867Z",
     "iopub.status.idle": "2022-01-30T13:33:25.085803Z",
     "shell.execute_reply": "2022-01-30T13:33:25.085035Z",
     "shell.execute_reply.started": "2022-01-30T13:33:24.760170Z"
    }
   },
   "outputs": [],
   "source": [
    "application_record.info()"
   ]
  },
  {
   "cell_type": "code",
   "execution_count": 42,
   "metadata": {
    "execution": {
     "iopub.execute_input": "2022-01-30T13:33:25.087536Z",
     "iopub.status.busy": "2022-01-30T13:33:25.087123Z",
     "iopub.status.idle": "2022-01-30T13:33:25.199270Z",
     "shell.execute_reply": "2022-01-30T13:33:25.198433Z",
     "shell.execute_reply.started": "2022-01-30T13:33:25.087493Z"
    }
   },
   "outputs": [],
   "source": [
    "application_record.describe().T"
   ]
  },
  {
   "cell_type": "code",
   "execution_count": 43,
   "metadata": {
    "execution": {
     "iopub.execute_input": "2022-01-30T13:33:25.201209Z",
     "iopub.status.busy": "2022-01-30T13:33:25.200757Z",
     "iopub.status.idle": "2022-01-30T13:33:25.680841Z",
     "shell.execute_reply": "2022-01-30T13:33:25.680088Z",
     "shell.execute_reply.started": "2022-01-30T13:33:25.201168Z"
    }
   },
   "outputs": [],
   "source": [
    "for column in application_record.drop(columns=['ID']).columns:\n",
    "    print(column)\n",
    "    print(application_record[column].value_counts())\n",
    "    "
   ]
  },
  {
   "cell_type": "code",
   "execution_count": 44,
   "metadata": {
    "execution": {
     "iopub.execute_input": "2022-01-30T13:33:25.683037Z",
     "iopub.status.busy": "2022-01-30T13:33:25.682312Z",
     "iopub.status.idle": "2022-01-30T13:33:25.692987Z",
     "shell.execute_reply": "2022-01-30T13:33:25.692040Z",
     "shell.execute_reply.started": "2022-01-30T13:33:25.682991Z"
    }
   },
   "outputs": [],
   "source": [
    "application_record.FLAG_MOBIL.value_counts() #every one has mobile "
   ]
  },
  {
   "cell_type": "code",
   "execution_count": 45,
   "metadata": {
    "execution": {
     "iopub.execute_input": "2022-01-30T13:33:25.695186Z",
     "iopub.status.busy": "2022-01-30T13:33:25.694778Z",
     "iopub.status.idle": "2022-01-30T13:33:25.723617Z",
     "shell.execute_reply": "2022-01-30T13:33:25.722841Z",
     "shell.execute_reply.started": "2022-01-30T13:33:25.695128Z"
    }
   },
   "outputs": [],
   "source": [
    "print(\"Number of datapoints for application records: {}\".format(len(application_record)))\n",
    "print(\"Number of unique clients in dataset: {}\".format(len(application_record.ID.unique())))\n"
   ]
  },
  {
   "cell_type": "code",
   "execution_count": 46,
   "metadata": {
    "execution": {
     "iopub.execute_input": "2022-01-30T13:33:25.725388Z",
     "iopub.status.busy": "2022-01-30T13:33:25.724987Z",
     "iopub.status.idle": "2022-01-30T13:33:25.738111Z",
     "shell.execute_reply": "2022-01-30T13:33:25.737291Z",
     "shell.execute_reply.started": "2022-01-30T13:33:25.725351Z"
    }
   },
   "outputs": [],
   "source": [
    "credit_record.head(5)"
   ]
  },
  {
   "cell_type": "code",
   "execution_count": 47,
   "metadata": {
    "execution": {
     "iopub.execute_input": "2022-01-30T13:33:25.741686Z",
     "iopub.status.busy": "2022-01-30T13:33:25.741352Z",
     "iopub.status.idle": "2022-01-30T13:33:25.871944Z",
     "shell.execute_reply": "2022-01-30T13:33:25.867901Z",
     "shell.execute_reply.started": "2022-01-30T13:33:25.741648Z"
    }
   },
   "outputs": [],
   "source": [
    "credit_record.info()"
   ]
  },
  {
   "cell_type": "code",
   "execution_count": 48,
   "metadata": {
    "execution": {
     "iopub.execute_input": "2022-01-30T13:33:25.881342Z",
     "iopub.status.busy": "2022-01-30T13:33:25.878461Z",
     "iopub.status.idle": "2022-01-30T13:33:25.978635Z",
     "shell.execute_reply": "2022-01-30T13:33:25.977760Z",
     "shell.execute_reply.started": "2022-01-30T13:33:25.881272Z"
    }
   },
   "outputs": [],
   "source": [
    "credit_record.describe().T"
   ]
  },
  {
   "cell_type": "code",
   "execution_count": 49,
   "metadata": {
    "execution": {
     "iopub.execute_input": "2022-01-30T13:33:25.983887Z",
     "iopub.status.busy": "2022-01-30T13:33:25.983302Z",
     "iopub.status.idle": "2022-01-30T13:33:26.137967Z",
     "shell.execute_reply": "2022-01-30T13:33:26.137039Z",
     "shell.execute_reply.started": "2022-01-30T13:33:25.983856Z"
    }
   },
   "outputs": [],
   "source": [
    "credit_record.STATUS.value_counts()"
   ]
  },
  {
   "cell_type": "code",
   "execution_count": 50,
   "metadata": {
    "execution": {
     "iopub.execute_input": "2022-01-30T13:33:26.146305Z",
     "iopub.status.busy": "2022-01-30T13:33:26.140237Z",
     "iopub.status.idle": "2022-01-30T13:33:26.295261Z",
     "shell.execute_reply": "2022-01-30T13:33:26.294455Z",
     "shell.execute_reply.started": "2022-01-30T13:33:26.146262Z"
    }
   },
   "outputs": [],
   "source": [
    "# data of active clients (open loan)\n",
    "\n",
    "balance = credit_record[credit_record.ID.isin(credit_record[credit_record.MONTHS_BALANCE==0]['ID'])]\n",
    "balance.groupby('STATUS')['ID'].count()\n"
   ]
  },
  {
   "cell_type": "code",
   "execution_count": 51,
   "metadata": {
    "execution": {
     "iopub.execute_input": "2022-01-30T13:33:26.297559Z",
     "iopub.status.busy": "2022-01-30T13:33:26.296971Z",
     "iopub.status.idle": "2022-01-30T13:33:26.577536Z",
     "shell.execute_reply": "2022-01-30T13:33:26.576683Z",
     "shell.execute_reply.started": "2022-01-30T13:33:26.297520Z"
    }
   },
   "outputs": [],
   "source": [
    "print(\"how many records match in two datasets: {}\".format(len(set(application_record['ID']).intersection(set(credit_record['ID'])))) )"
   ]
  },
  {
   "cell_type": "markdown",
   "metadata": {},
   "source": [
    "### Check for missing values"
   ]
  },
  {
   "cell_type": "code",
   "execution_count": 52,
   "metadata": {
    "execution": {
     "iopub.execute_input": "2022-01-30T13:33:26.579567Z",
     "iopub.status.busy": "2022-01-30T13:33:26.579041Z",
     "iopub.status.idle": "2022-01-30T13:33:26.928059Z",
     "shell.execute_reply": "2022-01-30T13:33:26.927218Z",
     "shell.execute_reply.started": "2022-01-30T13:33:26.579524Z"
    }
   },
   "outputs": [],
   "source": [
    "application_record.isna().sum()\n",
    "# OCCUPATION_TYPE Has 134203 empty record"
   ]
  },
  {
   "cell_type": "code",
   "execution_count": 53,
   "metadata": {
    "execution": {
     "iopub.execute_input": "2022-01-30T13:33:26.930005Z",
     "iopub.status.busy": "2022-01-30T13:33:26.929571Z",
     "iopub.status.idle": "2022-01-30T13:33:27.039849Z",
     "shell.execute_reply": "2022-01-30T13:33:27.039035Z",
     "shell.execute_reply.started": "2022-01-30T13:33:26.929963Z"
    }
   },
   "outputs": [],
   "source": [
    "credit_record.isna().sum() #NO NULL Values\n"
   ]
  },
  {
   "cell_type": "markdown",
   "metadata": {},
   "source": [
    "### Check for Duplicate records"
   ]
  },
  {
   "cell_type": "code",
   "execution_count": 54,
   "metadata": {
    "execution": {
     "iopub.execute_input": "2022-01-30T13:33:27.041710Z",
     "iopub.status.busy": "2022-01-30T13:33:27.041299Z",
     "iopub.status.idle": "2022-01-30T13:33:27.417069Z",
     "shell.execute_reply": "2022-01-30T13:33:27.416292Z",
     "shell.execute_reply.started": "2022-01-30T13:33:27.041669Z"
    }
   },
   "outputs": [],
   "source": [
    "application_record.duplicated().sum()\n"
   ]
  },
  {
   "cell_type": "code",
   "execution_count": 55,
   "metadata": {
    "execution": {
     "iopub.execute_input": "2022-01-30T13:33:27.418857Z",
     "iopub.status.busy": "2022-01-30T13:33:27.418441Z",
     "iopub.status.idle": "2022-01-30T13:33:27.547891Z",
     "shell.execute_reply": "2022-01-30T13:33:27.547123Z",
     "shell.execute_reply.started": "2022-01-30T13:33:27.418818Z"
    }
   },
   "outputs": [],
   "source": [
    "credit_record.duplicated().sum()\n"
   ]
  },
  {
   "cell_type": "markdown",
   "metadata": {},
   "source": [
    "No duplicates in both datasets"
   ]
  },
  {
   "cell_type": "markdown",
   "metadata": {},
   "source": [
    "# Data Visualization"
   ]
  },
  {
   "cell_type": "code",
   "execution_count": 56,
   "metadata": {
    "execution": {
     "iopub.execute_input": "2022-01-30T13:33:27.549686Z",
     "iopub.status.busy": "2022-01-30T13:33:27.549259Z",
     "iopub.status.idle": "2022-01-30T13:33:27.931190Z",
     "shell.execute_reply": "2022-01-30T13:33:27.930391Z",
     "shell.execute_reply.started": "2022-01-30T13:33:27.549647Z"
    }
   },
   "outputs": [],
   "source": [
    "#Now let's connect to the target attribute with general data from the appl dataset and the received credit history\n",
    "df = application_record.merge(credit_record, on='ID', how='inner')\n"
   ]
  },
  {
   "cell_type": "code",
   "execution_count": 57,
   "metadata": {
    "execution": {
     "iopub.execute_input": "2022-01-30T13:33:27.932838Z",
     "iopub.status.busy": "2022-01-30T13:33:27.932590Z",
     "iopub.status.idle": "2022-01-30T13:33:28.868661Z",
     "shell.execute_reply": "2022-01-30T13:33:28.868005Z",
     "shell.execute_reply.started": "2022-01-30T13:33:27.932803Z"
    }
   },
   "outputs": [],
   "source": [
    "fig, ax = plt.subplots(figsize=(10,10))\n",
    "cormat= df.corr()\n",
    "mask = np.array(cormat)\n",
    "mask[np.tril_indices_from(mask)] = False\n",
    "sns.heatmap(cormat,mask=mask,annot = True)\n"
   ]
  },
  {
   "cell_type": "code",
   "execution_count": 58,
   "metadata": {
    "execution": {
     "iopub.execute_input": "2022-01-30T13:33:28.870778Z",
     "iopub.status.busy": "2022-01-30T13:33:28.870012Z",
     "iopub.status.idle": "2022-01-30T13:33:28.883911Z",
     "shell.execute_reply": "2022-01-30T13:33:28.883081Z",
     "shell.execute_reply.started": "2022-01-30T13:33:28.870736Z"
    }
   },
   "outputs": [],
   "source": [
    "def check_outliers(df):\n",
    "    sns.set_style(\"whitegrid\")\n",
    "    for col in df.columns:\n",
    "        if col != 'STATUS':\n",
    "            fig = plt.figure(figsize=(8,7))\n",
    "            sns.boxplot(x = 'STATUS', y = col , data = df)\n",
    "            plt.show()\n",
    "            \n",
    "# Chart drawing function\n",
    "def graffs(arr):\n",
    "    fig, ax =plt.subplots(1,len(arr), figsize=(18,6))\n",
    "    fig.autofmt_xdate()\n",
    "    for index, category in enumerate(arr):\n",
    "\n",
    "        #plt.subplot(1, index+1)   \n",
    "        sns.countplot(data = df, x =category, hue='STATUS',ax=ax[index])\n",
    "        ax[index].set_title(category)\n",
    "        bars = ax[index].patches\n",
    "        half = int(len(bars)/2)\n",
    "        left_bars = bars[:half]\n",
    "        right_bars = bars[half:]\n",
    "\n",
    "    for left, right in zip(left_bars, right_bars):\n",
    "        height_l = 0 if np.isnan(right.get_height()) else left.get_height() #Высота левого бара\n",
    "        height_r = 0 if np.isnan(right.get_height()) else right.get_height() #Высота правого бара\n",
    "        total = height_l + height_r #общая сумма строк\n",
    "        if total > 0:\n",
    "\n",
    "          #sign left \n",
    "          ax[index].text(left.get_x() + left.get_width()/2., height_l + 50, '{0:.0%}'.format(height_l/total), ha=\"center\")\n",
    "          #ax[index].text(left.get_x() + left.get_width()/2., height_l + 350, str(height_l), ha=\"center\")\n",
    "\n",
    "          #sign right\n",
    "          #ax[index].text(right.get_x() + right.get_width()/2., height_r + 350, str(height_r), ha=\"center\")\n",
    "          ax[index].text(right.get_x() + right.get_width()/2., height_r + 50, '{0:.0%}'.format(height_r/total), ha=\"center\")\n",
    "    plt.tight_layout()        \n",
    "    plt.show()"
   ]
  },
  {
   "cell_type": "code",
   "execution_count": 59,
   "metadata": {
    "execution": {
     "iopub.execute_input": "2022-01-30T13:33:28.888104Z",
     "iopub.status.busy": "2022-01-30T13:33:28.887788Z",
     "iopub.status.idle": "2022-01-30T13:33:33.182847Z",
     "shell.execute_reply": "2022-01-30T13:33:33.182016Z",
     "shell.execute_reply.started": "2022-01-30T13:33:28.888073Z"
    }
   },
   "outputs": [],
   "source": [
    "cols_to_plot = [\"STATUS\",\"CNT_CHILDREN\",\"AMT_INCOME_TOTAL\",\"DAYS_BIRTH\",\"DAYS_EMPLOYED\",\"MONTHS_BALANCE\"]\n",
    "check_outliers(df[cols_to_plot])"
   ]
  },
  {
   "cell_type": "markdown",
   "metadata": {},
   "source": [
    "There are outliers in 2 columns.\n",
    "\n",
    "* CNT_CHILDREN\n",
    "* AMT_INCOME_TOTAL"
   ]
  },
  {
   "cell_type": "code",
   "execution_count": 60,
   "metadata": {
    "execution": {
     "iopub.execute_input": "2022-01-30T13:33:33.184900Z",
     "iopub.status.busy": "2022-01-30T13:33:33.184387Z",
     "iopub.status.idle": "2022-01-30T13:35:44.859645Z",
     "shell.execute_reply": "2022-01-30T13:35:44.856736Z",
     "shell.execute_reply.started": "2022-01-30T13:33:33.184860Z"
    }
   },
   "outputs": [],
   "source": [
    "import warnings\n",
    "warnings.simplefilter(action='ignore', category=FutureWarning)\n",
    "warnings.simplefilter(action='ignore', category=UserWarning)\n",
    "\n",
    "r = 3\n",
    "c = 3\n",
    "fig, axs = plt.subplots(r, c, figsize=(20, 20))\n",
    "\n",
    "i = 0\n",
    "j = 0\n",
    "for column in df.columns:\n",
    "    if df[column].dtype == 'int64':\n",
    "        sns.distplot(df[column], rug=True, bins=30, kde=True, hist=True, color='b', ax=axs[i, j])\n",
    "        if(j == c-1):\n",
    "            j = 0\n",
    "            i += 1\n",
    "        else:\n",
    "            j += 1\n"
   ]
  },
  {
   "cell_type": "code",
   "execution_count": 61,
   "metadata": {
    "execution": {
     "iopub.execute_input": "2022-01-30T13:35:44.862029Z",
     "iopub.status.busy": "2022-01-30T13:35:44.861037Z",
     "iopub.status.idle": "2022-01-30T13:35:45.644856Z",
     "shell.execute_reply": "2022-01-30T13:35:45.644023Z",
     "shell.execute_reply.started": "2022-01-30T13:35:44.861906Z"
    }
   },
   "outputs": [],
   "source": [
    "fig, ax =plt.subplots(1,3, figsize=(19,5))\n",
    "sns.boxenplot(data=df, x='AMT_INCOME_TOTAL', hue='STATUS',ax=ax[0])\n",
    "sns.boxenplot(data=df, x='CNT_CHILDREN', hue='STATUS',ax=ax[1])\n",
    "sns.boxenplot(data=df, x='CNT_FAM_MEMBERS', hue='STATUS',ax=ax[2])\n",
    "plt.tight_layout()  \n",
    "plt.show()\n"
   ]
  },
  {
   "cell_type": "code",
   "execution_count": 62,
   "metadata": {
    "execution": {
     "iopub.execute_input": "2022-01-30T13:35:45.647174Z",
     "iopub.status.busy": "2022-01-30T13:35:45.646314Z",
     "iopub.status.idle": "2022-01-30T13:35:46.228959Z",
     "shell.execute_reply": "2022-01-30T13:35:46.228221Z",
     "shell.execute_reply.started": "2022-01-30T13:35:45.647116Z"
    }
   },
   "outputs": [],
   "source": [
    "fig, axes = plt.subplots(1,3)\n",
    "\n",
    "g1= application_record['CODE_GENDER'].value_counts().plot.pie(explode=[0.1,0.1],autopct='%1.1f%%',shadow=True, colors=[\"#3779C4\",\"#B56F9B\"],textprops = {'fontsize':12}, ax=axes[0])\n",
    "g1.set_title(\"Customer Distribution by Gender\")\n",
    "\n",
    "g2= application_record['FLAG_OWN_CAR'].value_counts().plot.pie(explode=[0.1,0.1],autopct='%1.1f%%',shadow=True,colors=[\"#3779C4\",\"#B56F9B\"],textprops = {'fontsize':12}, ax=axes[1])\n",
    "g2.set_title(\"Car Ownership\")\n",
    "\n",
    "g3= application_record['FLAG_OWN_REALTY'].value_counts().plot.pie(explode=[0.1,0.1],autopct='%1.1f%%',shadow=True,colors=[\"#3779C4\",\"#B56F9B\"],textprops = {'fontsize':12}, ax=axes[2])\n",
    "g3.set_title(\"Realty Ownership\")\n",
    "\n",
    "fig.set_size_inches(14,5)\n",
    "\n",
    "plt.tight_layout()\n",
    "\n",
    "plt.show()"
   ]
  },
  {
   "cell_type": "code",
   "execution_count": 63,
   "metadata": {
    "execution": {
     "iopub.execute_input": "2022-01-30T13:35:46.231003Z",
     "iopub.status.busy": "2022-01-30T13:35:46.230485Z",
     "iopub.status.idle": "2022-01-30T13:35:53.204913Z",
     "shell.execute_reply": "2022-01-30T13:35:53.204081Z",
     "shell.execute_reply.started": "2022-01-30T13:35:46.230962Z"
    }
   },
   "outputs": [],
   "source": [
    "sns.set_theme()\n",
    "graffs(['NAME_FAMILY_STATUS','NAME_INCOME_TYPE','NAME_EDUCATION_TYPE'])\n"
   ]
  },
  {
   "cell_type": "code",
   "execution_count": 64,
   "metadata": {
    "execution": {
     "iopub.execute_input": "2022-01-30T13:35:53.207209Z",
     "iopub.status.busy": "2022-01-30T13:35:53.206369Z",
     "iopub.status.idle": "2022-01-30T13:35:53.590761Z",
     "shell.execute_reply": "2022-01-30T13:35:53.590007Z",
     "shell.execute_reply.started": "2022-01-30T13:35:53.207159Z"
    }
   },
   "outputs": [],
   "source": [
    "credit_record.groupby('STATUS').count().plot(kind='bar')"
   ]
  },
  {
   "cell_type": "markdown",
   "metadata": {},
   "source": [
    "# Data Preprocessing & Feature Engineering"
   ]
  },
  {
   "cell_type": "code",
   "execution_count": 65,
   "metadata": {
    "execution": {
     "iopub.execute_input": "2022-01-30T13:35:53.595541Z",
     "iopub.status.busy": "2022-01-30T13:35:53.595232Z",
     "iopub.status.idle": "2022-01-30T13:35:53.778935Z",
     "shell.execute_reply": "2022-01-30T13:35:53.778196Z",
     "shell.execute_reply.started": "2022-01-30T13:35:53.595513Z"
    }
   },
   "outputs": [],
   "source": [
    "# determination of the month of opening a loan (the expected date of issuing a loan) and the current month\n",
    "credits_history = balance.groupby(['ID']).agg(\n",
    "   start_month=  ('MONTHS_BALANCE', min), end_month=('MONTHS_BALANCE', max), \n",
    "   current_status =('STATUS', 'first'),\n",
    "   last_status = ('STATUS', 'last')\n",
    "    ).reset_index()\n"
   ]
  },
  {
   "cell_type": "code",
   "execution_count": 66,
   "metadata": {
    "execution": {
     "iopub.execute_input": "2022-01-30T13:35:53.780602Z",
     "iopub.status.busy": "2022-01-30T13:35:53.780260Z",
     "iopub.status.idle": "2022-01-30T13:35:53.792747Z",
     "shell.execute_reply": "2022-01-30T13:35:53.792070Z",
     "shell.execute_reply.started": "2022-01-30T13:35:53.780563Z"
    }
   },
   "outputs": [],
   "source": [
    "credits_history.head()"
   ]
  },
  {
   "cell_type": "code",
   "execution_count": 67,
   "metadata": {
    "execution": {
     "iopub.execute_input": "2022-01-30T13:35:53.794510Z",
     "iopub.status.busy": "2022-01-30T13:35:53.794078Z",
     "iopub.status.idle": "2022-01-30T13:35:54.209063Z",
     "shell.execute_reply": "2022-01-30T13:35:54.208220Z",
     "shell.execute_reply.started": "2022-01-30T13:35:53.794463Z"
    }
   },
   "outputs": [],
   "source": [
    "\n",
    "# determination of the month of opening a loan (the expected date of issuing a loan) and the current month\n",
    "credits_history = balance.groupby(['ID']).agg(\n",
    "   start_month=  ('MONTHS_BALANCE', min), end_month=('MONTHS_BALANCE', max), \n",
    "   current_status =('STATUS', 'first'),\n",
    "   last_status = ('STATUS', 'last')\n",
    "    ).reset_index()\n",
    "credits_history['duration'] = round(abs(credits_history.start_month) / 12)\n",
    "credits_history = pd.merge(credits_history, balance, how='left', on='ID')\n",
    "credits_history = credits_history[~credits_history.current_status.isin([\"X\"])]\n",
    "credits_history\n"
   ]
  },
  {
   "cell_type": "code",
   "execution_count": 68,
   "metadata": {
    "execution": {
     "iopub.execute_input": "2022-01-30T13:35:54.210862Z",
     "iopub.status.busy": "2022-01-30T13:35:54.210600Z",
     "iopub.status.idle": "2022-01-30T13:35:54.293476Z",
     "shell.execute_reply": "2022-01-30T13:35:54.292572Z",
     "shell.execute_reply.started": "2022-01-30T13:35:54.210826Z"
    }
   },
   "outputs": [],
   "source": [
    "# grouping and counting statuses by month\n",
    "bad_month = credits_history.groupby(['MONTHS_BALANCE', 'STATUS']).size().reset_index(name='counts')\n",
    "bad_month.drop(bad_month[bad_month.STATUS.isin([\"X\",\"C\"])].index,inplace=True)\n",
    "bad_month['MONTHS_BALANCE'] =  abs(bad_month['MONTHS_BALANCE'])\n",
    "bad_month"
   ]
  },
  {
   "cell_type": "markdown",
   "metadata": {},
   "source": [
    "Thus, a level 0 delay occurs in most clients, during the entire loan period, the peak falls on the first 5 months. Delay of the first level is also not uncommon to have a similar distribution pattern with zero, but with a lower frequency.\n",
    "\n",
    "Overdue payments of levels 2, 3, 4, 5 Significantly fewer, but they are of a more prolonged nature. In long-term loans, users with a history of more than 5 years after about 50 months have no such delays at all.\n",
    "\n",
    "Based on this data, we will mark up the dataset with general data as follows.\n",
    "\n",
    "A debt of 1-5 level formed within 18 months is a \"bad client\""
   ]
  },
  {
   "cell_type": "code",
   "execution_count": 69,
   "metadata": {
    "execution": {
     "iopub.execute_input": "2022-01-30T13:35:54.295364Z",
     "iopub.status.busy": "2022-01-30T13:35:54.295082Z",
     "iopub.status.idle": "2022-01-30T13:35:54.300988Z",
     "shell.execute_reply": "2022-01-30T13:35:54.300083Z",
     "shell.execute_reply.started": "2022-01-30T13:35:54.295328Z"
    }
   },
   "outputs": [],
   "source": [
    "def chek(arr):\n",
    "    s = 1\n",
    "    for i,j in enumerate(arr):\n",
    "        if i <= 17 and j in bad:\n",
    "            s = 0\n",
    "            break   \n",
    "    return s  "
   ]
  },
  {
   "cell_type": "code",
   "execution_count": 70,
   "metadata": {
    "execution": {
     "iopub.execute_input": "2022-01-30T13:35:54.302825Z",
     "iopub.status.busy": "2022-01-30T13:35:54.302564Z",
     "iopub.status.idle": "2022-01-30T13:35:55.001735Z",
     "shell.execute_reply": "2022-01-30T13:35:55.000937Z",
     "shell.execute_reply.started": "2022-01-30T13:35:54.302790Z"
    }
   },
   "outputs": [],
   "source": [
    "bad = [\"1\", \"2\", \"3\", \"4\", \"5\"]\n",
    "target = credits_history.groupby('ID')['STATUS'].apply(chek).reset_index()\n",
    "#Now let's connect to the target attribute with general data from the appl dataset and the received credit history\n",
    "df = application_record.merge(target, on='ID', how='inner')\n",
    "\n",
    "\n",
    "\n"
   ]
  },
  {
   "cell_type": "code",
   "execution_count": 71,
   "metadata": {
    "execution": {
     "iopub.execute_input": "2022-01-30T13:35:55.003683Z",
     "iopub.status.busy": "2022-01-30T13:35:55.003375Z",
     "iopub.status.idle": "2022-01-30T13:35:55.043799Z",
     "shell.execute_reply": "2022-01-30T13:35:55.043046Z",
     "shell.execute_reply.started": "2022-01-30T13:35:55.003643Z"
    }
   },
   "outputs": [],
   "source": [
    "df = df.merge(credits_history.groupby('ID')[['duration','start_month']].first(), on='ID', how='left')\n",
    "df = df.drop(df[df.STATUS.isna()].index)"
   ]
  },
  {
   "cell_type": "code",
   "execution_count": 72,
   "metadata": {
    "execution": {
     "iopub.execute_input": "2022-01-30T13:35:55.045677Z",
     "iopub.status.busy": "2022-01-30T13:35:55.045370Z",
     "iopub.status.idle": "2022-01-30T13:35:55.118818Z",
     "shell.execute_reply": "2022-01-30T13:35:55.118166Z",
     "shell.execute_reply.started": "2022-01-30T13:35:55.045637Z"
    }
   },
   "outputs": [],
   "source": [
    "df.groupby(['NAME_INCOME_TYPE','OCCUPATION_TYPE']).count().sort_values('ID').groupby(level=0).tail(1)['ID']\n",
    "df.loc[df['NAME_INCOME_TYPE'] == 'Working','OCCUPATION_TYPE']\n",
    "df.loc[df['NAME_INCOME_TYPE'] == 'Working','OCCUPATION_TYPE'] = \\\n",
    "df.loc[df['NAME_INCOME_TYPE'] == 'Working','OCCUPATION_TYPE'].fillna(value='Laborers')\n",
    "df.loc[df['NAME_INCOME_TYPE'] == 'Commercial associate','OCCUPATION_TYPE'] = \\\n",
    "df.loc[df['NAME_INCOME_TYPE'] == 'Commercial associate','OCCUPATION_TYPE'].fillna(value='Laborers')\n",
    "df.loc[df['NAME_INCOME_TYPE'] == 'State servant','OCCUPATION_TYPE'] = \\\n",
    "df.loc[df['NAME_INCOME_TYPE'] == 'State servant','OCCUPATION_TYPE'].fillna(value='Core staff')\n",
    "df.loc[df['NAME_INCOME_TYPE'] == 'Student','OCCUPATION_TYPE'] = \\\n",
    "df.loc[df['NAME_INCOME_TYPE'] == 'Student','OCCUPATION_TYPE'].fillna(value='Laborers')\n",
    "df.loc[df['NAME_INCOME_TYPE'] == 'Pensioner','OCCUPATION_TYPE'] = \\\n",
    "df.loc[df['NAME_INCOME_TYPE'] == 'Pensioner','OCCUPATION_TYPE'].fillna(value='Core staff')\n",
    "\n",
    "\n",
    "\n",
    "\n",
    "\n",
    "\n",
    "\n",
    "\n",
    "\n"
   ]
  },
  {
   "cell_type": "code",
   "execution_count": 73,
   "metadata": {
    "execution": {
     "iopub.execute_input": "2022-01-30T13:35:55.120623Z",
     "iopub.status.busy": "2022-01-30T13:35:55.120434Z",
     "iopub.status.idle": "2022-01-30T13:35:55.153803Z",
     "shell.execute_reply": "2022-01-30T13:35:55.153102Z",
     "shell.execute_reply.started": "2022-01-30T13:35:55.120598Z"
    }
   },
   "outputs": [],
   "source": [
    "df[df.drop(['ID'],axis=1).duplicated(keep=False)==True].groupby('STATUS')['ID'].count()\n"
   ]
  },
  {
   "cell_type": "code",
   "execution_count": 74,
   "metadata": {
    "execution": {
     "iopub.execute_input": "2022-01-30T13:35:55.155814Z",
     "iopub.status.busy": "2022-01-30T13:35:55.155300Z",
     "iopub.status.idle": "2022-01-30T13:35:55.186824Z",
     "shell.execute_reply": "2022-01-30T13:35:55.186112Z",
     "shell.execute_reply.started": "2022-01-30T13:35:55.155774Z"
    }
   },
   "outputs": [],
   "source": [
    "df.drop(df[df.drop(['ID'],axis=1).duplicated()==True].index, inplace=True)\n"
   ]
  },
  {
   "cell_type": "code",
   "execution_count": 75,
   "metadata": {
    "execution": {
     "iopub.execute_input": "2022-01-30T13:35:55.188894Z",
     "iopub.status.busy": "2022-01-30T13:35:55.188361Z",
     "iopub.status.idle": "2022-01-30T13:35:56.700991Z",
     "shell.execute_reply": "2022-01-30T13:35:56.700292Z",
     "shell.execute_reply.started": "2022-01-30T13:35:55.188853Z"
    }
   },
   "outputs": [],
   "source": [
    "df[df.drop(['ID','CODE_GENDER'],axis=1).duplicated(keep=False)==True].sort_values(by='DAYS_BIRTH')\n",
    "df.drop(df[df.drop(['ID','CODE_GENDER'],axis=1).duplicated(keep=False)==True].index,inplace=True)\n",
    "df['credit_counts'] = 1\n",
    "columns = df.drop(['ID','credit_counts','STATUS','duration','start_month'],axis=1).columns.tolist()\n",
    "df['credit_counts'] = df.groupby(columns)['credit_counts'].apply(np.cumsum)\n",
    "df.credit_counts.describe()\n",
    "\n"
   ]
  },
  {
   "cell_type": "code",
   "execution_count": 79,
   "metadata": {
    "execution": {
     "iopub.execute_input": "2022-01-30T13:37:31.705920Z",
     "iopub.status.busy": "2022-01-30T13:37:31.705599Z",
     "iopub.status.idle": "2022-01-30T13:37:36.356523Z",
     "shell.execute_reply": "2022-01-30T13:37:36.355777Z",
     "shell.execute_reply.started": "2022-01-30T13:37:31.705886Z"
    }
   },
   "outputs": [],
   "source": [
    "import datetime\n",
    "def my_years_my_wealth(days):\n",
    "    cur_date = datetime.datetime.now()\n",
    "  #print(pd.to_datetime(days, origin=cur_date, unit='D').year)\n",
    "    if days > -365:\n",
    "        return 0\n",
    "    return cur_date.year - pd.to_datetime(days, origin=cur_date, unit='D').year\n",
    "\n",
    "df['income_category'] = pd.qcut(df.AMT_INCOME_TOTAL,5,labels=[1, 2, 3, 4, 5])\n",
    "df['income_per_person'] = df.AMT_INCOME_TOTAL / df.CNT_FAM_MEMBERS\n",
    "df['DAYS_EMPLOYED'] = df.DAYS_EMPLOYED.apply(my_years_my_wealth)\n",
    "df['DAYS_BIRTH'] = df.DAYS_BIRTH.apply(my_years_my_wealth)\n",
    "df['age_when_start'] = df.DAYS_BIRTH - df.duration\n",
    "df['emploed_when_start'] = df.DAYS_EMPLOYED - df.duration\n",
    "df.drop(columns=['DAYS_BIRTH','DAYS_EMPLOYED'], inplace=True)\n",
    "\n",
    "\n"
   ]
  },
  {
   "cell_type": "code",
   "execution_count": 80,
   "metadata": {
    "execution": {
     "iopub.execute_input": "2022-01-30T13:40:46.719745Z",
     "iopub.status.busy": "2022-01-30T13:40:46.718912Z",
     "iopub.status.idle": "2022-01-30T13:40:46.753700Z",
     "shell.execute_reply": "2022-01-30T13:40:46.752926Z",
     "shell.execute_reply.started": "2022-01-30T13:40:46.719704Z"
    }
   },
   "outputs": [],
   "source": [
    "def Y_or_N(x):\n",
    "    return [1,0][x.upper() == 'Y']\n",
    "\n",
    "df.FLAG_OWN_CAR = df.FLAG_OWN_CAR.apply(Y_or_N)\n",
    "df.loc[df['emploed_when_start'] < 0, 'emploed_when_start'] = -1\n",
    "df.FLAG_OWN_REALTY = df.FLAG_OWN_REALTY.apply(Y_or_N)\n",
    "\n"
   ]
  },
  {
   "cell_type": "code",
   "execution_count": 81,
   "metadata": {
    "execution": {
     "iopub.execute_input": "2022-01-30T13:42:22.499795Z",
     "iopub.status.busy": "2022-01-30T13:42:22.499491Z",
     "iopub.status.idle": "2022-01-30T13:42:22.509853Z",
     "shell.execute_reply": "2022-01-30T13:42:22.508976Z",
     "shell.execute_reply.started": "2022-01-30T13:42:22.499762Z"
    }
   },
   "outputs": [],
   "source": [
    "#Remove unnecessary data from the dataset\n",
    "df_features = df.drop(['ID','STATUS','start_month','duration',\n",
    "                       'AMT_INCOME_TOTAL'], axis=1)\n",
    "df_target = df['STATUS']\n",
    "num_features = ['income_category','age_when_start','emploed_when_start','CNT_FAM_MEMBERS','credit_counts','income_per_person']\n"
   ]
  },
  {
   "cell_type": "code",
   "execution_count": 82,
   "metadata": {
    "execution": {
     "iopub.execute_input": "2022-01-30T13:44:03.591780Z",
     "iopub.status.busy": "2022-01-30T13:44:03.591482Z",
     "iopub.status.idle": "2022-01-30T13:44:03.604206Z",
     "shell.execute_reply": "2022-01-30T13:44:03.603342Z",
     "shell.execute_reply.started": "2022-01-30T13:44:03.591749Z"
    }
   },
   "outputs": [],
   "source": [
    "cat_features=['CODE_GENDER','NAME_INCOME_TYPE','NAME_EDUCATION_TYPE','NAME_FAMILY_STATUS',\n",
    "              'NAME_HOUSING_TYPE','OCCUPATION_TYPE']\n",
    "df_features[num_features] = df_features[num_features].astype('int64')\n",
    "\n"
   ]
  },
  {
   "cell_type": "markdown",
   "metadata": {},
   "source": [
    "## MODEL"
   ]
  },
  {
   "cell_type": "code",
   "execution_count": 84,
   "metadata": {
    "execution": {
     "iopub.execute_input": "2022-01-30T13:47:29.425557Z",
     "iopub.status.busy": "2022-01-30T13:47:29.425290Z",
     "iopub.status.idle": "2022-01-30T13:47:29.438895Z",
     "shell.execute_reply": "2022-01-30T13:47:29.438102Z",
     "shell.execute_reply.started": "2022-01-30T13:47:29.425528Z"
    }
   },
   "outputs": [],
   "source": [
    "X_train, X_test, y_train, y_test = train_test_split(df_features, df_target, test_size=0.2, random_state=42)\n"
   ]
  },
  {
   "cell_type": "code",
   "execution_count": 86,
   "metadata": {
    "execution": {
     "iopub.execute_input": "2022-01-30T13:48:04.477987Z",
     "iopub.status.busy": "2022-01-30T13:48:04.477701Z",
     "iopub.status.idle": "2022-01-30T13:48:04.516442Z",
     "shell.execute_reply": "2022-01-30T13:48:04.515707Z",
     "shell.execute_reply.started": "2022-01-30T13:48:04.477956Z"
    }
   },
   "outputs": [],
   "source": [
    "from sklearn.compose import ColumnTransformer\n",
    "from sklearn.utils import shuffle\n",
    "sns.set_theme()\n",
    "from sklearn.metrics import confusion_matrix\n",
    "from sklearn.metrics import precision_score, recall_score\n",
    "from sklearn.metrics import precision_recall_curve, roc_auc_score\n",
    "from catboost import  CatBoostClassifier\n",
    "from sklearn.metrics import fbeta_score\n",
    "from sklearn.metrics import make_scorer\n",
    "from sklearn.metrics import f1_score\n",
    "\n",
    "\n",
    "# upsample\n",
    "def upsample(features, target, repeat):\n",
    "    \n",
    "    features_zeros = features[target == 0]\n",
    "    features_ones = features[target == 1]\n",
    "    target_zeros = target[target == 0]\n",
    "    target_ones = target[target == 1]\n",
    " \n",
    "    features_upsampled = pd.concat([features_ones] + [features_zeros] * repeat)\n",
    "    target_upsampled = pd.concat([target_ones] + [target_zeros] * repeat)\n",
    "    \n",
    "    features_upsampled = shuffle(features_upsampled, random_state=42)\n",
    "    target_upsampled = shuffle(target_upsampled, random_state=42)\n",
    "    \n",
    "    return features_upsampled, target_upsampled\n",
    "features_upsampled, target_upsampled = upsample(X_train, y_train, 8)\n",
    "print(features_upsampled.shape)\n",
    "print(target_upsampled.mean())"
   ]
  },
  {
   "cell_type": "code",
   "execution_count": 87,
   "metadata": {
    "execution": {
     "iopub.execute_input": "2022-01-30T13:48:28.151641Z",
     "iopub.status.busy": "2022-01-30T13:48:28.150996Z",
     "iopub.status.idle": "2022-01-30T13:48:28.181412Z",
     "shell.execute_reply": "2022-01-30T13:48:28.180249Z",
     "shell.execute_reply.started": "2022-01-30T13:48:28.151591Z"
    }
   },
   "outputs": [],
   "source": [
    "# downsample\n",
    "def downsample(features, target, fraction):\n",
    "    features_zeros = features[target == 0]\n",
    "    features_ones = features[target == 1]\n",
    "    target_zeros = target[target == 0]\n",
    "    target_ones = target[target == 1]\n",
    "\n",
    "    features_sample = features_ones.sample(frac=fraction, random_state=42)\n",
    "    target_sample = target_ones.sample(frac=fraction, random_state=42)\n",
    "    \n",
    "    features_downsampled = pd.concat([features_sample] + [features_zeros])\n",
    "    target_downsampled = pd.concat([target_sample] + [target_zeros])\n",
    "    \n",
    "    features_downsampled = shuffle(features_downsampled, random_state=42)\n",
    "    target_downsampled = shuffle(target_downsampled, random_state=42)\n",
    "    \n",
    "    return features_downsampled, target_downsampled\n",
    "features_downsample, target_downsample = downsample(X_train, y_train, 0.17)\n",
    "print(features_downsample.shape)\n",
    "print(target_downsample.mean())\n"
   ]
  },
  {
   "cell_type": "code",
   "execution_count": 90,
   "metadata": {
    "execution": {
     "iopub.execute_input": "2022-01-30T13:50:15.812847Z",
     "iopub.status.busy": "2022-01-30T13:50:15.812579Z",
     "iopub.status.idle": "2022-01-30T13:50:15.833907Z",
     "shell.execute_reply": "2022-01-30T13:50:15.833086Z",
     "shell.execute_reply.started": "2022-01-30T13:50:15.812817Z"
    }
   },
   "outputs": [],
   "source": [
    "from sklearn.preprocessing import OneHotEncoder\n",
    "from sklearn.preprocessing import StandardScaler\n",
    "from sklearn.tree import DecisionTreeRegressor\n",
    "\n",
    "def results(model, scor_type, X, y, sample):\n",
    "    predict = model.predict(X)\n",
    "    tn, fp, fn, tp = confusion_matrix(y, predict).ravel()\n",
    "    f1 = f1_score(y, predict)\n",
    "    roc = roc_auc_score(y, model.predict_proba(X)[:,1])\n",
    "    f_beta = fbeta_score(y, predict,beta=0.5)\n",
    "    return ({'dataset': sample,\n",
    "                      'tune_metric': scor_type,\n",
    "                      'roc_auc_score': roc,\n",
    "                      'f1_beta_score': f1,\n",
    "                      'f1_score': f1,\n",
    "                      'tn': tn,\n",
    "                      'fp': fp,\n",
    "                      'fn': fn,\n",
    "                      'tp': tp})\n",
    "columns = ['dataset','tune_metric','roc_auc_score','f1_beta_score','f1_score', 'tn','fp','fn','tp']\n",
    "res_metrics = pd.DataFrame(columns=columns)\n",
    "categories = []\n",
    "for cat in cat_features:\n",
    "    categories.append(df[cat].unique().tolist())\n"
   ]
  },
  {
   "cell_type": "code",
   "execution_count": 92,
   "metadata": {
    "execution": {
     "iopub.execute_input": "2022-01-30T13:50:58.302887Z",
     "iopub.status.busy": "2022-01-30T13:50:58.302611Z",
     "iopub.status.idle": "2022-01-30T13:50:58.338758Z",
     "shell.execute_reply": "2022-01-30T13:50:58.338046Z",
     "shell.execute_reply.started": "2022-01-30T13:50:58.302860Z"
    }
   },
   "outputs": [],
   "source": [
    "from sklearn.pipeline import Pipeline\n",
    "from sklearn.ensemble import RandomForestClassifier\n",
    "from sklearn.model_selection import  GridSearchCV\n",
    "from sklearn.linear_model import LogisticRegression\n",
    "\n",
    "preprocessor = ColumnTransformer(\n",
    "    [\n",
    "        (\"onehot_categorical\", OneHotEncoder(categories=categories, drop='first'), cat_features),\n",
    "        ('scaler', StandardScaler(), num_features)\n",
    "    ], remainder='passthrough'\n",
    ")\n",
    "pipeline = Pipeline(\n",
    "    [\n",
    "        ('preprocessor', preprocessor),\n",
    "        ('model', LogisticRegression())\n",
    "    ]\n",
    ")\n",
    "preprocessor.fit_transform(features_downsample)[:1]\n"
   ]
  },
  {
   "cell_type": "code",
   "execution_count": 93,
   "metadata": {
    "execution": {
     "iopub.execute_input": "2022-01-30T13:52:45.802870Z",
     "iopub.status.busy": "2022-01-30T13:52:45.802282Z",
     "iopub.status.idle": "2022-01-30T13:52:45.815547Z",
     "shell.execute_reply": "2022-01-30T13:52:45.814830Z",
     "shell.execute_reply.started": "2022-01-30T13:52:45.802829Z"
    }
   },
   "outputs": [],
   "source": [
    "from xgboost import XGBClassifier\n",
    "from lightgbm import LGBMClassifier\n",
    "from catboost import CatBoostClassifier\n",
    "from sklearn import svm\n",
    "from sklearn.ensemble import RandomForestClassifier\n",
    "from sklearn.neighbors import KNeighborsClassifier\n",
    "\n",
    "\n",
    "\n",
    "params = [\n",
    "    {\n",
    "        'model': [LogisticRegression()]\n",
    "      \n",
    "        \n",
    "  },\n",
    "  {\n",
    "        'model': [XGBClassifier()],\n",
    "        'model__n_estimators': [i for i in range(1, 70,5)],\n",
    "        'model__max_depth': [i for i in range(1, 20,2)],\n",
    "        'model__random_state': [42],\n",
    "        'model__criterion':['gini', 'entropy'],\n",
    "        'preprocessor__scaler': ['passthrough']\n",
    "      \n",
    "        \n",
    "  },\n",
    "  {   \n",
    "        'model': [CatBoostClassifier()],   \n",
    "        'model__solver': ['liblinear'],\n",
    "        #'model__penalty': ['l1', 'l2'],\n",
    "        #'model__C': [0.01, 0.1, 1, 10],\n",
    "        'model__random_state': [42],\n",
    "        'preprocessor__scaler': [StandardScaler()]\n",
    "   \n",
    "  }\n",
    "\n",
    "]\n",
    "grid = GridSearchCV(pipeline, param_grid=params, verbose=False,  \n",
    "                                                 cv=3, \n",
    "                                                 scoring='roc_auc')"
   ]
  },
  {
   "cell_type": "code",
   "execution_count": 94,
   "metadata": {
    "execution": {
     "iopub.execute_input": "2022-01-30T13:52:58.648995Z",
     "iopub.status.busy": "2022-01-30T13:52:58.648108Z",
     "iopub.status.idle": "2022-01-30T13:52:58.654097Z",
     "shell.execute_reply": "2022-01-30T13:52:58.653384Z",
     "shell.execute_reply.started": "2022-01-30T13:52:58.648944Z"
    }
   },
   "outputs": [],
   "source": [
    "grid = GridSearchCV(pipeline, param_grid=params, verbose=False,  \n",
    "                                                 cv=3, \n",
    "                                                 scoring='roc_auc')\n"
   ]
  },
  {
   "cell_type": "code",
   "execution_count": 95,
   "metadata": {
    "execution": {
     "iopub.execute_input": "2022-01-30T13:53:07.090118Z",
     "iopub.status.busy": "2022-01-30T13:53:07.089602Z",
     "iopub.status.idle": "2022-01-30T14:00:21.972964Z",
     "shell.execute_reply": "2022-01-30T14:00:21.971778Z",
     "shell.execute_reply.started": "2022-01-30T13:53:07.090076Z"
    }
   },
   "outputs": [],
   "source": [
    "grid.fit(features_upsampled, target_upsampled)\n"
   ]
  },
  {
   "cell_type": "code",
   "execution_count": null,
   "metadata": {},
   "outputs": [],
   "source": [
    "pd.DataFrame(grid.cv_results_).sort_values(by=\"mean_test_score\", ascending=False)[[\n",
    "                                                                                  'param_model__max_depth',\n",
    "                                                                                  'param_model__n_estimators',\n",
    "                                                                                  'mean_test_score',\n",
    "                                                                                  'param_model']].head(3)\n"
   ]
  },
  {
   "cell_type": "code",
   "execution_count": null,
   "metadata": {},
   "outputs": [],
   "source": [
    "grid.scorer_\n"
   ]
  },
  {
   "cell_type": "code",
   "execution_count": null,
   "metadata": {},
   "outputs": [],
   "source": [
    "res_metrics = res_metrics.append(results(grid.best_estimator_, grid.scorer_,\n",
    "                                         X_test,y_test,\n",
    "                                         'test/upsampled'),ignore_index=True)\n"
   ]
  },
  {
   "cell_type": "code",
   "execution_count": null,
   "metadata": {},
   "outputs": [],
   "source": [
    "res_metrics\n"
   ]
  },
  {
   "cell_type": "code",
   "execution_count": null,
   "metadata": {},
   "outputs": [],
   "source": [
    "probabilities_valid = grid.best_estimator_.predict_proba(X_test)\n"
   ]
  },
  {
   "cell_type": "code",
   "execution_count": null,
   "metadata": {},
   "outputs": [],
   "source": [
    "probabilities_one_test = probabilities_valid[:, 1]\n"
   ]
  },
  {
   "cell_type": "code",
   "execution_count": null,
   "metadata": {},
   "outputs": [],
   "source": [
    "fpr, tpr, thresholds = roc_curve(y_test, probabilities_one_test) \n",
    "\n",
    "plt.figure(figsize=(6, 6))\n",
    "plt.plot(fpr, tpr, linestyle='-')\n",
    "plt.plot([0, 1], [0, 1], linestyle='--')\n",
    "plt.xlim([0.0, 1.0])\n",
    "plt.ylim([0.0, 1.0])\n",
    "plt.xlabel('False Positive Rate')\n",
    "plt.ylabel('True Positive Rate')\n",
    "plt.title('ROC-Curve')\n"
   ]
  },
  {
   "cell_type": "code",
   "execution_count": null,
   "metadata": {},
   "outputs": [],
   "source": [
    "for threshold in np.arange(0, 0.95, 0.05):\n",
    "    predicted_valid =  (probabilities_one_test > threshold)*1\n",
    "    precision = precision_score(y_test,predicted_valid)\n",
    "    recall = recall_score(y_test,predicted_valid)\n",
    "    tn, fp, fn, tp = confusion_matrix(y_test, predicted_valid).ravel()\n",
    "    print(\"Recall = {:.2f} | Percision = {:.3f}, completeness = {:.3f}\".format(\n",
    "        threshold, precision, recall))\n",
    "    print('TN = {}| FP {}| FN {} | TP {} |'.format(tn, fp, fn, tp))"
   ]
  },
  {
   "cell_type": "code",
   "execution_count": null,
   "metadata": {},
   "outputs": [],
   "source": [
    "cbr = CatBoostClassifier(eval_metric='AUC', iterations=1000, random_state=42,\n",
    "                         learning_rate=0.05, depth=6, verbose=1000)\n",
    "cbr.fit(features_upsampled ,target_upsampled, cat_features=cat_features , eval_set=(X_test, y_test), plot=True)\n",
    "catboost_feachures_important=pd.DataFrame({'feature_importance': cbr.feature_importances_, \n",
    "              'feature_names': X_train.columns}).sort_values(by=['feature_importance'], \n",
    "                                                           ascending=False)\n",
    "res_metrics = res_metrics.append(results(cbr, 'roc_auc',\n",
    "                                         X_test,y_test,\n",
    "                                         'test/upsampled'),ignore_index=True)\n",
    "probabilities_valid = cbr.predict_proba(X_test)\n",
    "probabilities_one_test = probabilities_valid[:, 1]\n",
    "fpr, tpr, thresholds = roc_curve(y_test, probabilities_one_test) \n",
    "\n",
    "plt.figure(figsize=(6, 6))\n",
    "plt.plot(fpr, tpr, linestyle='-')\n",
    "plt.plot([0, 1], [0, 1], linestyle='--')\n",
    "plt.xlim([0.0, 1.0])\n",
    "plt.ylim([0.0, 1.0])\n",
    "plt.xlabel('False Positive Rate')\n",
    "plt.ylabel('True Positive Rate')\n",
    "plt.title('ROC-Curve')\n",
    "\n"
   ]
  }
 ],
 "metadata": {
  "kernelspec": {
   "display_name": "Python 3 (ipykernel)",
   "language": "python",
   "name": "python3"
  },
  "language_info": {
   "codemirror_mode": {
    "name": "ipython",
    "version": 3
   },
   "file_extension": ".py",
   "mimetype": "text/x-python",
   "name": "python",
   "nbconvert_exporter": "python",
   "pygments_lexer": "ipython3",
   "version": "3.9.7"
  }
 },
 "nbformat": 4,
 "nbformat_minor": 4
}
